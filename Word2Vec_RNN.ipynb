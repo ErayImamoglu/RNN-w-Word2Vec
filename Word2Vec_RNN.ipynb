{
  "nbformat": 4,
  "nbformat_minor": 0,
  "metadata": {
    "colab": {
      "provenance": [],
      "gpuType": "T4",
      "authorship_tag": "ABX9TyOCWm+KH/oL3uJ5zkUz+52U",
      "include_colab_link": true
    },
    "kernelspec": {
      "name": "python3",
      "display_name": "Python 3"
    },
    "language_info": {
      "name": "python"
    },
    "accelerator": "GPU"
  },
  "cells": [
    {
      "cell_type": "markdown",
      "metadata": {
        "id": "view-in-github",
        "colab_type": "text"
      },
      "source": [
        "<a href=\"https://colab.research.google.com/github/ErayImamoglu/RNN-w-Word2Vec/blob/main/Word2Vec_RNN.ipynb\" target=\"_parent\"><img src=\"https://colab.research.google.com/assets/colab-badge.svg\" alt=\"Open In Colab\"/></a>"
      ]
    },
    {
      "cell_type": "code",
      "execution_count": 41,
      "metadata": {
        "colab": {
          "base_uri": "https://localhost:8080/",
          "height": 35
        },
        "id": "W3ZAJdMSW9h1",
        "outputId": "2e780c18-67e1-4b73-81af-add94f6b13ee"
      },
      "outputs": [
        {
          "output_type": "execute_result",
          "data": {
            "text/plain": [
              "'The Supe1vision Contractor shall provide sufficient, qualified and experienced staff to ensure proper site supe1vision of the works during the project duration.'"
            ],
            "application/vnd.google.colaboratory.intrinsic+json": {
              "type": "string"
            }
          },
          "metadata": {},
          "execution_count": 41
        }
      ],
      "source": [
        "import pandas as pd\n",
        "import tensorflow as tf\n",
        "from tensorflow import keras\n",
        "from tensorflow.keras import layers\n",
        "import numpy as np\n",
        "import os\n",
        "import matplotlib.pyplot as plt\n",
        "import time\n",
        "\n",
        "df=pd.read_csv(\"/content/train_set_cost_related-_2_.csv\")\n",
        "\n",
        "# Get indices of rows with label 0 and label 1\n",
        "indices_0 = df[df['CostRelated'] == 0].index\n",
        "indices_1 = df[df['CostRelated'] == 1].index\n",
        "\n",
        "# Randomly sample the required number of indices with label 0\n",
        "random_indices_0 = np.random.choice(indices_0, len(indices_1), replace=False)\n",
        "\n",
        "# Combine the indices\n",
        "under_sample_indices = np.concatenate([indices_1, random_indices_0])\n",
        "\n",
        "# Create the undersampled DataFrame\n",
        "under_sampled_df = df.loc[under_sample_indices]\n",
        "\n",
        "# Shuffle the resulting DataFrame for good measure\n",
        "under_sampled_df = under_sampled_df.sample(frac=1).reset_index(drop=True)\n",
        "\n",
        "under_sampled_df[\"CostRelated\"] = under_sampled_df[\"CostRelated\"].astype(int)\n",
        "\n",
        "df=under_sampled_df\n",
        "\n",
        "df[\"Text\"][1]"
      ]
    },
    {
      "cell_type": "code",
      "source": [
        "!pip install gensim\n",
        "from gensim.models import Word2Vec"
      ],
      "metadata": {
        "colab": {
          "base_uri": "https://localhost:8080/"
        },
        "id": "yjN8dBxaXqUg",
        "outputId": "2089660b-33b5-4142-9dd3-40ca2ab8b8d7"
      },
      "execution_count": 42,
      "outputs": [
        {
          "output_type": "stream",
          "name": "stdout",
          "text": [
            "Requirement already satisfied: gensim in /usr/local/lib/python3.10/dist-packages (4.3.1)\n",
            "Requirement already satisfied: numpy>=1.18.5 in /usr/local/lib/python3.10/dist-packages (from gensim) (1.23.5)\n",
            "Requirement already satisfied: scipy>=1.7.0 in /usr/local/lib/python3.10/dist-packages (from gensim) (1.10.1)\n",
            "Requirement already satisfied: smart-open>=1.8.1 in /usr/local/lib/python3.10/dist-packages (from gensim) (6.3.0)\n"
          ]
        }
      ]
    },
    {
      "cell_type": "code",
      "source": [
        "#preprocessing\n",
        "import re\n",
        "import string\n",
        "\n",
        "def remove_punct(Text): #punctuationları kaldırmak için bir formül\n",
        "  translator=str.maketrans(\"\", \"\", string.punctuation)\n",
        "  return Text.translate(translator)\n",
        "\n",
        "df[\"Text\"]=df.Text.map(remove_punct)\n",
        "\n",
        "df[\"Text\"][1]"
      ],
      "metadata": {
        "colab": {
          "base_uri": "https://localhost:8080/",
          "height": 35
        },
        "id": "mpMfc3YvXUqQ",
        "outputId": "4f91ef0b-df4e-4af8-adab-a9ad03bc12b0"
      },
      "execution_count": 43,
      "outputs": [
        {
          "output_type": "execute_result",
          "data": {
            "text/plain": [
              "'The Supe1vision Contractor shall provide sufficient qualified and experienced staff to ensure proper site supe1vision of the works during the project duration'"
            ],
            "application/vnd.google.colaboratory.intrinsic+json": {
              "type": "string"
            }
          },
          "metadata": {},
          "execution_count": 43
        }
      ]
    },
    {
      "cell_type": "code",
      "source": [
        "#remove stopwords - not kelimesini atılmadan algoritma başarısını karşılaştır.\n",
        "#pip install ntlk\n",
        "import nltk\n",
        "nltk.download('stopwords')\n",
        "from nltk.corpus import stopwords\n",
        "stop=set(stopwords.words(\"english\"))\n",
        "\n",
        "def remove_stopwords(Text):\n",
        "  filtered_words=[word.lower() for word in Text.split() if word.lower() not in stop]\n",
        "  return \" \".join(filtered_words)\n",
        "\n",
        "df[\"Text\"]=df.Text.map(remove_stopwords) # bu olay çıkarıyor\n",
        "\n",
        "df[\"Text\"][1]"
      ],
      "metadata": {
        "colab": {
          "base_uri": "https://localhost:8080/",
          "height": 70
        },
        "id": "x09t5PpPXWNk",
        "outputId": "ee504447-6779-4792-861d-417c9987df61"
      },
      "execution_count": 44,
      "outputs": [
        {
          "output_type": "stream",
          "name": "stderr",
          "text": [
            "[nltk_data] Downloading package stopwords to /root/nltk_data...\n",
            "[nltk_data]   Package stopwords is already up-to-date!\n"
          ]
        },
        {
          "output_type": "execute_result",
          "data": {
            "text/plain": [
              "'supe1vision contractor shall provide sufficient qualified experienced staff ensure proper site supe1vision works project duration'"
            ],
            "application/vnd.google.colaboratory.intrinsic+json": {
              "type": "string"
            }
          },
          "metadata": {},
          "execution_count": 44
        }
      ]
    },
    {
      "cell_type": "code",
      "source": [
        "#split dataset into training and validation set\n",
        "train_size=int(df.shape[0]*0.8)\n",
        "\n",
        "train_df=df[:train_size]\n",
        "val_df=df[train_size:]\n",
        "\n",
        "#split text and labels\n",
        "train_sentences=train_df.Text.to_numpy()\n",
        "train_labels=train_df.CostRelated.to_numpy()\n",
        "val_sentences=val_df.Text.to_numpy()\n",
        "val_labels=val_df.CostRelated.to_numpy()\n",
        "\n",
        "print(len(train_sentences))\n",
        "print(len(val_sentences))"
      ],
      "metadata": {
        "colab": {
          "base_uri": "https://localhost:8080/"
        },
        "id": "zW7dCWoeXXjh",
        "outputId": "32dc6d5b-0e92-4392-ea61-af2a4c05547a"
      },
      "execution_count": 45,
      "outputs": [
        {
          "output_type": "stream",
          "name": "stdout",
          "text": [
            "294\n",
            "74\n"
          ]
        }
      ]
    },
    {
      "cell_type": "code",
      "source": [
        "from collections import Counter\n",
        "\n",
        "def counter_word(text_col):\n",
        "  count = Counter()\n",
        "  for text in text_col.values:\n",
        "    for word in text.split():\n",
        "      count[word] += 1\n",
        "  return count\n",
        "\n",
        "counter = counter_word(df.Text)\n",
        "num_unique_words = len(counter)\n",
        "\n",
        "print(num_unique_words)"
      ],
      "metadata": {
        "colab": {
          "base_uri": "https://localhost:8080/"
        },
        "id": "4cwvrE_DZPiN",
        "outputId": "3c98344a-5eb5-4fd8-f61b-f5506527b2f2"
      },
      "execution_count": 46,
      "outputs": [
        {
          "output_type": "stream",
          "name": "stdout",
          "text": [
            "1787\n"
          ]
        }
      ]
    },
    {
      "cell_type": "code",
      "source": [
        "#tokenize\n",
        "from tensorflow.keras.preprocessing.text import Tokenizer\n",
        "from keras.layers import Dense\n",
        "\n",
        "# Tokenize only the training set\n",
        "tokenizer = Tokenizer(num_words=num_unique_words)\n",
        "tokenizer.fit_on_texts(train_sentences)  # fit only to training\n",
        "\n",
        "# Train Word2Vec model ONLY on training data\n",
        "train_sentences_split = [sentence.split() for sentence in train_sentences]\n",
        "word2vec = Word2Vec(train_sentences_split, vector_size=100, window=5, min_count=1, sg=0)  # you can change the parameters\n",
        "\n",
        "# Build embedding matrix\n",
        "vocab_size = len(tokenizer.word_index) + 1\n",
        "embedding_matrix = np.zeros((vocab_size, 100))  # Assuming embedding dimension is 100\n",
        "for word, i in tokenizer.word_index.items():\n",
        "    try:\n",
        "        embedding_vector = word2vec.wv[word]\n",
        "        embedding_matrix[i] = embedding_vector\n",
        "    except KeyError:  # word not in word2vec model vocabulary\n",
        "        pass\n",
        "\n",
        "print(train_sentences[1])\n",
        "print(vocab_size)"
      ],
      "metadata": {
        "colab": {
          "base_uri": "https://localhost:8080/"
        },
        "id": "iUqbZA6hXYci",
        "outputId": "787ef3b1-6cd6-4067-cf2b-87c744a482be"
      },
      "execution_count": 47,
      "outputs": [
        {
          "output_type": "stream",
          "name": "stdout",
          "text": [
            "supe1vision contractor shall provide sufficient qualified experienced staff ensure proper site supe1vision works project duration\n",
            "1545\n"
          ]
        }
      ]
    },
    {
      "cell_type": "code",
      "source": [
        "train_sequences=tokenizer.texts_to_sequences(train_sentences) #sentences to sequence-indices\n",
        "val_sequences=tokenizer.texts_to_sequences(val_sentences)     #sentences to sequence-indices\n",
        "\n",
        "print(train_sentences[1])\n",
        "print(train_sequences[1])"
      ],
      "metadata": {
        "colab": {
          "base_uri": "https://localhost:8080/"
        },
        "id": "mFGzyx8XXZQH",
        "outputId": "2aba14aa-1762-46d9-c7ce-68a705d05864"
      },
      "execution_count": 48,
      "outputs": [
        {
          "output_type": "stream",
          "name": "stdout",
          "text": [
            "supe1vision contractor shall provide sufficient qualified experienced staff ensure proper site supe1vision works project duration\n",
            "[413, 9, 2, 7, 126, 180, 414, 6, 23, 153, 11, 413, 4, 5, 82]\n"
          ]
        }
      ]
    },
    {
      "cell_type": "code",
      "source": [
        "#pad the sequences to have the same length\n",
        "from tensorflow.keras.preprocessing.sequence import pad_sequences\n",
        "\n",
        "#Max number of words in a sequence\n",
        "max_length =32\n",
        "\n",
        "train_padded=pad_sequences(train_sequences,maxlen=max_length,padding=\"post\",truncating=\"post\")\n",
        "val_padded=pad_sequences(val_sequences,maxlen=max_length,padding=\"post\",truncating=\"post\")\n",
        "\n",
        "print(train_padded[1])"
      ],
      "metadata": {
        "colab": {
          "base_uri": "https://localhost:8080/"
        },
        "id": "llLoF01PXZ-P",
        "outputId": "7ee0d3ff-9a05-4dad-9959-abd1863d859e"
      },
      "execution_count": 49,
      "outputs": [
        {
          "output_type": "stream",
          "name": "stdout",
          "text": [
            "[413   9   2   7 126 180 414   6  23 153  11 413   4   5  82   0   0   0\n",
            "   0   0   0   0   0   0   0   0   0   0   0   0   0   0]\n"
          ]
        }
      ]
    },
    {
      "cell_type": "code",
      "source": [
        "#check reversing the indices\n",
        "#flip (key, value)\n",
        "reverse_word_index = dict([(idx, word) for (word, idx) in tokenizer.word_index.items()])\n",
        "\n",
        "def decode(sequence):\n",
        "  return \" \".join([reverse_word_index.get(idx, \"?\") for idx in sequence])\n",
        "\n",
        "print(reverse_word_index)"
      ],
      "metadata": {
        "colab": {
          "base_uri": "https://localhost:8080/"
        },
        "id": "Q-bP6UdcXa8f",
        "outputId": "e8b89b55-8c49-44a0-ee0b-aebcf3db8616"
      },
      "execution_count": 50,
      "outputs": [
        {
          "output_type": "stream",
          "name": "stdout",
          "text": [
            "{1: 'consultant', 2: 'shall', 3: 'contract', 4: 'works', 5: 'project', 6: 'staff', 7: 'provide', 8: 'construction', 9: 'contractor', 10: 'office', 11: 'site', 12: 'experts', 13: 'design', 14: 'services', 15: 'equipment', 16: 'supervision', 17: 'required', 18: 'necessary', 19: 'including', 20: 'client', 21: 'costs', 22: 'support', 23: 'ensure', 24: 'provided', 25: 'review', 26: 'must', 27: 'insurance', 28: 'documents', 29: 'payment', 30: 'accommodation', 31: 'implementation', 32: 'engineer', 33: 'within', 34: 'report', 35: 'assignment', 36: 'accordance', 37: 'plan', 38: 'well', 39: 'local', 40: 'work', 41: 'terms', 42: 'contractors', 43: 'liability', 44: 'responsible', 45: 'vehicles', 46: 'period', 47: 'reports', 48: 'facilities', 49: 'completion', 50: 'provision', 51: 'relevant', 52: 'may', 53: 'appropriate', 54: 'also', 55: 'civil', 56: 'laboratory', 57: 'country', 58: 'included', 59: 'drawings', 60: 'etc', 61: 'part', 62: 'cost', 63: 'following', 64: 'months', 65: 'quality', 66: 'conditions', 67: 'contractor’s', 68: 'survey', 69: 'travel', 70: 'related', 71: 'include', 72: 'order', 73: 'materials', 74: 'leave', 75: 'per', 76: 'activities', 77: 'requirements', 78: 'fully', 79: 'team', 80: 'remuneration', 81: 'reference', 82: 'duration', 83: 'performance', 84: 'management', 85: 'respect', 86: 'law', 87: 'allowances', 88: 'transport', 89: 'offices', 90: 'professional', 91: 'two', 92: 'equipped', 93: 'technical', 94: 'consultant’s', 95: 'detailed', 96: 'duties', 97: 'minimum', 98: 'progress', 99: 'execution', 100: 'taxes', 101: 'employer', 102: 'specifications', 103: 'provisions', 104: 'personnel', 105: 'engineers', 106: 'engineering', 107: 'information', 108: 'expert', 109: 'number', 110: 'personmonths', 111: '1', 112: 'defects', 113: 'final', 114: 'coverage', 115: 'client’s', 116: 'use', 117: 'backstopping', 118: 'rates', 119: 'prepared', 120: 'approve', 121: 'key', 122: 'advance', 123: 'time', 124: 'carry', 125: 'fidic', 126: 'sufficient', 127: 'submit', 128: 'applicable', 129: 'health', 130: 'transportation', 131: '10', 132: 'access', 133: 'roads', 134: 'general', 135: 'form', 136: 'fee', 137: 'turkey', 138: 'buildings', 139: 'submitted', 140: '5', 141: 'one', 142: 'andor', 143: 'based', 144: 'contracts', 145: 'cover', 146: 'pay', 147: 'third', 148: 'least', 149: 'authority', 150: 'experience', 151: 'proposed', 152: 'made', 153: 'proper', 154: 'subconsultants', 155: 'communication', 156: 'registered', 157: 'proposal', 158: 'water', 159: 'control', 160: 'physical', 161: 'engineer’s', 162: 'section', 163: 'consultants', 164: 'location', 165: 'supply', 166: 'furniture', 167: 'supervise', 168: 'testing', 169: 'used', 170: 'safety', 171: 'resident', 172: 'according', 173: 'fees', 174: 'english', 175: 'international', 176: 'party', 177: 'motor', 178: 'vehicle', 179: 'energy', 180: 'qualified', 181: 'amount', 182: 'expenses', 183: 'consulting', 184: 'firm', 185: 'recognized', 186: 'providing', 187: 'prepare', 188: 'table', 189: 'financial', 190: 'working', 191: 'power', 192: 'telephone', 193: 'issues', 194: 'certificates', 195: 'day', 196: 'additional', 197: 'paid', 198: 'security', 199: 'ii', 200: 'condition', 201: 'outside', 202: 'drivers', 203: 'assistants', 204: 'due', 205: 'maintenance', 206: 'ebrd', 207: 'specialists', 208: 'end', 209: 'deemed', 210: 'building', 211: 'respective', 212: 'years', 213: 'contracting', 214: 'ie', 215: 'service', 216: 'bank', 217: 'environmental', 218: 'geotechnical', 219: 'expenditure', 220: 'kshs', 221: 'space', 222: 'counterpart', 223: 'inception', 224: 'phase', 225: 'various', 226: 'submission', 227: 'data', 228: 'sites', 229: 'rate', 230: 'practice', 231: 'administration', 232: 'approved', 233: 'full', 234: 'gender', 235: 'language', 236: 'social', 237: 'adequate', 238: 'pending', 239: 'items', 240: 'throughout', 241: 'masterplan', 242: 'purpose', 243: 'plans', 244: 'structural', 245: 'commencement', 246: 'nonkey', 247: 'field', 248: 'assurance', 249: 'procedures', 250: 'meetings', 251: 'estimated', 252: 'encouraged', 253: 'agreed', 254: 'planning', 255: 'covered', 256: 'case', 257: 'purchased', 258: 'court', 259: 'addition', 260: 'four', 261: 'expected', 262: 'furnished', 263: 'timely', 264: 'standards', 265: 'five', 266: 'good', 267: 'consultancy', 268: 'fuel', 269: 'borne', 270: 'projects', 271: 'maintained', 272: 'guarantee', 273: 'head', 274: '4', 275: 'stated', 276: 'successful', 277: 'rukwa', 278: 'campus', 279: 'documentation', 280: 'act', 281: 'preparing', 282: 'remedial', 283: 'standard', 284: 'budget', 285: 'breakdown', 286: 'compensation', 287: 'life', 288: 'accident', 289: '5000000', 290: 'arrange', 291: 'tanzania', 292: 'bidding', 293: 'role', 294: '2', 295: 'development', 296: 'place', 297: 'whole', 298: 'reasonable', 299: 'best', 300: 'advice', 301: 'specific', 302: 'es', 303: 'month', 304: '24', 305: 'covering', 306: 'notification', 307: 'exercise', 308: 'architectural', 309: 'quantity', 310: 'basis', 311: 'status', 312: 'consultant—the', 313: 'engineer—and', 314: 'engagement', 315: 'assigned', 316: 'programme', 317: 'pavements', 318: '–', 319: 'method', 320: 'implemented', 321: 'responsibility', 322: 'obligations', 323: 'listed', 324: 'secretarial', 325: 'managerchief', 326: 'executed', 327: 'schedule', 328: 'daily', 329: 'upon', 330: 'system', 331: 'employ', 332: 'secretariesinterpreters', 333: 'road', 334: 'position', 335: 'major', 336: 'countries', 337: 'undertake', 338: 'compliance', 339: 'languages', 340: 'copy', 341: 'eshs', 342: 'proposals', 343: 'components', 344: 'designer', 345: 'funds', 346: 'judiciary', 347: 'subsistence', 348: 'residential', 349: 'teams', 350: 'total', 351: 'efficient', 352: 'resources', 353: 'fittings', 354: 'approval', 355: 'days', 356: 'package', 357: 'separately', 358: 'operated', 359: '000', 360: 'equivalent', 361: 'handed', 362: 'supplies', 363: 'consent', 364: 'refugees', 365: 'phones', 366: 'entire', 367: 'weeks', 368: 'expetrs', 369: 'profiles', 370: 'main', 371: 'close', 372: 'missions', 373: 'identified', 374: 'issuance', 375: 'instructions', 376: 'license', 377: 'make', 378: 'would', 379: 'behalf', 380: 'records', 381: 'given', 382: 'subject', 383: 'annual', 384: 'however', 385: 'special', 386: 'available', 387: 'assist', 388: 'subclause', 389: 'efficiency', 390: 'either', 391: 'tests', 392: 'defined', 393: 'continued', 394: 'areas', 395: 'intends', 396: 'tender', 397: 'carrying', 398: 'laws', 399: 'herzegovina', 400: 'since', 401: 'world', 402: 'mobile', 403: 'date', 404: 'actions', 405: 'monthly', 406: 'steering', 407: 'committee', 408: 'except', 409: '15', 410: 'cooperation', 411: 'take', 412: 'material', 413: 'supe1vision', 414: 'experienced', 415: 'eur', 416: 'unchanged', 417: 'boards', 418: 'authorities', 419: 'internationally', 420: 'process', 421: 'assistance', 422: 'train', 423: 'aspects', 424: 'registration', 425: 'secure', 426: 'computer', 427: 'training', 428: 'every', 429: 'facilitate', 430: 'approximately', 431: 'beneficiary', 432: 'purposes', 433: 'individual', 434: 'visits', 435: 'shown', 436: 'air', 437: 'supplying', 438: 'accommodations', 439: 'last', 440: 'includes', 441: '30', 442: '3', 443: 'issue', 444: 'surveying', 445: 'designs', 446: 'community', 447: 'political', 448: 'associated', 449: 'manpower', 450: 'computers', 451: 'similar', 452: 'migration', 453: 'long', 454: 'hours', 455: 'sewage', 456: 'disposal', 457: 'conform', 458: 'identifying', 459: 'completeness', 460: 'sections', 461: 'description', 462: 'chapter', 463: 'telephones', 464: 'statements', 465: 'delivers', 466: 'parts', 467: 'determine', 468: 'tor', 469: 'inspect', 470: 'lilongwe', 471: 'designed', 472: 'shortterm', 473: 'indicate', 474: 'clear', 475: 'undertaking', 476: 'workmanship', 477: 'methods', 478: 'criteria', 479: 'maintain', 480: 'inspections', 481: 'locations', 482: 'reimbursed', 483: 'line', 484: 'f4', 485: 'translation', 486: 'price', 487: 'adjustment', 488: 'applies', 489: 'verification', 490: 'director', 491: 'highway', 492: 'transit', 493: 'iran', 494: 'iraq', 495: 'verify', 496: 'bosnian', 497: 'refers', 498: 'loss', 499: 'damage', 500: 'property', 501: 'iii', 502: 'financed', 503: 'coordinate', 504: 'high', 505: 'primary', 506: 'sum', 507: 'mentioned', 508: '42', 509: 'simultaneously', 510: 'cvs', 511: 'operating', 512: 'test', 513: 'done', 514: 'ministry', 515: 'sanitation', 516: 'drainage', 517: 'monitor', 518: 'functioning', 519: 'measurement', 520: 'findings', 521: 'selection', 522: 'keep', 523: 'three', 524: 'copies', 525: 'scope', 526: 'changes', 527: 'overtime', 528: 'sick', 529: 'vacation', 530: 'benefit', 531: 'agree', 532: 'securities', 533: 'gel', 534: 'degree', 535: 'ground', 536: 'objective', 537: 'estimates', 538: 'details', 539: 'defect', 540: 'interim', 541: 'described', 542: 'obtaining', 543: 'cell', 544: 'solely', 545: 'temporary', 546: 'supporting', 547: 'ten', 548: 'employer’s', 549: 'workers’', 550: 'administrative', 551: 'located', 552: 'consultant‘s', 553: 'authorised', 554: 'normal', 555: 'posting', 556: 'processing', 557: 'laptopsnotebooks', 558: 'built', 559: 'sets', 560: 'certificate', 561: 'apply', 562: 'regarding', 563: 'norms', 564: 'legislation', 565: 'obtain', 566: 'setting', 567: 'practical', 568: 'software', 569: 'draft', 570: 'structures', 571: 'preliminary', 572: 'handover', 573: 'partner', 574: 'transferred', 575: 'follows', 576: 'parties', 577: 'capacity', 578: 'investigation', 579: 'organization', 580: 'create', 581: 'pictures', 582: 'limited', 583: 'organisation', 584: 'methodology', 585: 'developed', 586: 'member', 587: 'person', 588: 'topographical', 589: 'parameters', 590: '25', 591: 'claims', 592: 'clause', 593: 'surveyors', 594: 'zenica', 595: 'cantonal', 596: 'hospital', 597: 'ee', 598: 'measures', 599: 'increasing', 600: 'soil', 601: 'performed', 602: 'reputable', 603: 'recommend', 604: 'appoint', 605: 'guide', 606: 'malawi', 607: 'contractor´s', 608: 'discharge', 609: 'outcome', 610: 'land', 611: 'federation', 612: 'performing', 613: 'first', 614: 'visit', 615: 'alignment', 616: 'critical', 617: 'accepted', 618: 'ensuring', 619: 'eg', 620: 'horizontal', 621: 'technicians', 622: 'bosnia', 623: 'salaries', 624: 'involved', 625: 'rectifications', 626: 'supervising', 627: 'procurement', 628: 'version', 629: 'red', 630: 'book', 631: 'quantities', 632: 'tendering', 633: 'policies', 634: 'free', 635: 'direct', 636: 'type', 637: 'type2', 638: 'responsibilities', 639: 'present', 640: 'methodologies', 641: 'hold', 642: 'considering', 643: 'conduct', 644: 'ict', 645: 'qualification', 646: 'representative', 647: 'independent', 648: 'run', 649: 'payments', 650: 'interest', 651: 'dialogue', 652: 'foreign', 653: 'currency', 654: 'wastewater', 655: 'eu', 656: 'needed', 657: 'matters', 658: 'examine', 659: 'undertaken', 660: 'adjusted', 661: 'delegation', 662: 'results', 663: 'discuss', 664: 'certify', 665: 'brought', 666: 'tested', 667: 'practices', 668: 'incidental', 669: '10000000', 670: 'employer‘s', 671: 'workers‘', 672: 'kenya', 673: 'preparations', 674: 'submissions', 675: 'diems', 676: 'nominated', 677: 'himher', 678: 'preconstruction', 679: 'awarded', 680: 'administered', 681: 'play', 682: 'advisory', 683: 'deploy', 684: 'graduate', 685: 'desks', 686: 'dedicated', 687: 'softwares', 688: 'trainees', 689: 'bidders', 690: 'therefore', 691: 'lump', 692: '250000000', 693: 'wireless', 694: 'internet', 695: 'facility', 696: 'transmission', 697: 'square', 698: 'metres', 699: 'estimating', 700: 'global', 701: 'enter', 702: 'personmonth', 703: 'roundtrip', 704: 'ticket', 705: 'adequately', 706: 'supported', 707: 'involvement', 708: '58', 709: 'precommencement', 710: 'closing', 711: 'account', 712: 'closeout', 713: 'backup', 714: 'nondiscrimination', 715: 'dealing', 716: 'vulnerable', 717: 'disadvantaged', 718: 'groups', 719: 'subcontractors', 720: 'workers', 721: 'example', 722: 'family', 723: 'ethnicity', 724: 'race', 725: 'religion', 726: 'marital', 727: 'age', 728: 'disability', 729: 'mental', 730: 'sexual', 731: 'orientation', 732: 'identity', 733: 'conviction', 734: 'civic', 735: 'geometric', 736: 'pavement', 737: 'walkways', 738: 'parking', 739: 'spaces', 740: 'landscape', 741: 'area', 742: 'witha', 743: 'locate', 744: 'confirm', 745: 'beacons', 746: 'along', 747: 'route', 748: 'allow', 749: 'reimbursable', 750: 'value', 751: 'f5', 752: 'miscellaneous', 753: 'printers', 754: 'a3', 755: 'scanner', 756: 'copier', 757: 'conditioning', 758: 'hired', 759: 'history', 760: 'center', 761: 'trade', 762: 'routes', 763: 'shoreline', 764: 'strategic', 765: 'bridging', 766: 'continents', 767: 'guard', 768: 'ln', 769: 'circumstances', 770: 'makes', 771: 'connections', 772: 'impracticabte', 773: 'operate', 774: 'generators', 775: 'pumps', 776: 'wells', 777: 'storage', 778: 'tanks', 779: 'regular', 780: 'deliveries', 781: 'potable', 782: 'agreement', 783: 'strict', 784: 'adherence', 785: 'esia', 786: 'document', 787: 'reviewed', 788: 'omissions', 789: 'additions', 790: 'compromise', 791: 'supplement', 792: 'consistency', 793: 'elevations', 794: 'indicative', 795: 'presented', 796: '004', 797: 'landline', 798: 'calls', 799: 'moldova', 800: 'presentation', 801: 'point', 802: 'format', 803: 'englishturkish', 804: 'interlocutors', 805: 'barriers', 806: 'addressed', 807: 'governed', 808: 'notes', 809: 'annex', 810: 'v', 811: 'highvisibility', 812: 'vests', 813: 'helmets', 814: 'boots', 815: 'bridges', 816: 'serving', 817: 'reinstated', 818: 'better', 819: 'apart', 820: 'might', 821: 'prescribed', 822: 'delivered', 823: 'input', 824: 'email', 825: 'photocopiers', 826: 'budgets', 827: '331this', 828: '1155', 829: '1105', 830: 'home', 831: '2055', 832: 'clearly', 833: 'profile', 834: 'comment', 835: 'accept', 836: 'assisting', 837: 'establishing', 838: 'onsite', 839: 'laboratorybased', 840: 'reporting', 841: 'completed', 842: 'sampling', 843: 'acceptance', 844: 'asbuilt', 845: 'require', 846: 'overnight', 847: 'stays', 848: 'lodges', 849: 'hotels', 850: 'abovementioned', 851: '500000', 852: 'cannot', 853: 'decreased', 854: 'increased', 855: 'flow', 856: 'geographical', 857: 'crossroad', 858: 'asia', 859: 'europe', 860: 'irregular', 861: 'moves', 862: 'afghanistan', 863: 'pakistan', 864: 'bangladesh', 865: 'india', 866: 'asian', 867: 'african', 868: 'audits', 869: 'supervisions', 870: 'seash', 871: 'unless', 872: 'otherwise', 873: 'hard', 874: 'requested', 875: 'electronically', 876: 'violence', 877: 'gbv', 878: 'prevention', 879: 'response', 880: 'action', 881: 'schedules', 882: 'refurbishment', 883: 'removal', 884: 'centres', 885: 'collect', 886: 'extracts', 887: 'competent', 888: 'institutions', 889: 'consists', 890: 'types', 891: 'interventions', 892: 'daytoday', 893: 'assets', 894: 'via', 895: 'view', 896: 'embarked', 897: 'new', 898: 'magistrate', 899: 'district', 900: 'courts', 901: 'accommodated', 902: 'known', 903: 'justice', 904: 'centre', 905: 'diem', 906: 'flatrate', 907: 'maximum', 908: 'meals', 909: 'tips', 910: 'airport', 911: 'lab', 912: 'io', 913: 'minimal', 914: 'staffthe', 915: 'numbers', 916: 'anticipated', 917: 'durations', 918: 'plus', 919: 'twelve', 920: '12', 921: 'understanding', 922: 'commence', 923: 'evaluated', 924: 'collectively', 925: 'lead', 926: 'institution', 927: 'beneficiaty', 928: 'housing', 929: 'supervisory', 930: 'drawing', 931: 'utilities', 932: 'consumables', 933: 'organized', 934: 'f', 935: 'inancial', 936: 'percolation', 937: 'requirement', 938: 'program', 939: 'appropriately', 940: 'furiture', 941: 'usable', 942: 'panel', 943: 'recorded', 944: 'replenished', 945: 'consumable', 946: 'signed', 947: 'conformity', 948: 'retention', 949: 'money', 950: 'formats', 951: 'track', 952: 'validity', 953: 'bachelors', 954: 'architecture', 955: '740', 956: '442', 957: '298', 958: 'room', 959: 'fifted', 960: 'light', 961: 'ceiling', 962: 'fans', 963: 'regulators', 964: 'electric', 965: '5a', 966: 'outlets', 967: 'connection', 968: 'said', 969: 'designated', 970: 'revert', 971: 'officially', 972: 'soon', 973: 'longer', 974: 'carryout', 975: 'academic', 976: 'block', 977: 'workshop', 978: 'ijcs', 979: 'dlp', 980: 'pbm', 981: 'logistics', 982: 'communications', 983: 'tl', 984: 'note', 985: 'repotis', 986: 'tetms', 987: 'sign', 988: 'inclusive', 989: 'permits', 990: 'hisher', 991: 'expatriates', 992: 'statutory', 993: 'bodies', 994: 'remains', 995: 'notable', 996: 'destination', 997: 'inegular', 998: 'urban', 999: 'phone', 1000: 'camp', 1001: 'establishments', 1002: 'nature', 1003: 'vital', 1004: 'comply', 1005: 'excluding', 1006: 'contingency', 1007: 'effectiveness', 1008: 'manual', 1009: 'rdmrdi', 1010: 'employing', 1011: 'relocation', 1012: 'repatriation', 1013: 'base', 1014: 'operations', 1015: 'mobilization', 1016: 'demobilization', 1017: 'expatriation', 1018: 'medical', 1019: 'employment', 1020: 'benefits', 1021: 'accorded', 1022: 'expetis', 1023: 'contain', 1024: 'serviceskshs', 1025: 'designing', 1026: 'could', 1027: 'divided', 1028: 'foreseen', 1029: 'carried', 1030: 'sense', 1031: 'consult', 1032: 'give', 1033: 'heet', 1034: 'comprise', 1035: 'different', 1036: 'printer', 1037: 'photocopying', 1038: 'machine', 1039: 'projector', 1040: 'fax', 1041: 'modem', 1042: 'stationery', 1043: 'checking', 1044: 'film', 1045: 'original', 1046: 'bound', 1047: 'paper', 1048: 'prints', 1049: 'electronic', 1050: 'taking', 1051: 'respecting', 1052: 'operation', 1053: 'plates', 1054: 'tires', 1055: 'interruptions', 1056: 'weather', 1057: 'manmonths', 1058: 'estimation', 1059: 'acquirerentleasebuy', 1060: 'satellite', 1061: 'kakarbhitta', 1062: 'laukahi', 1063: 'checks', 1064: 'possess', 1065: 'bachelor', 1066: 'board', 1067: 'hardware', 1068: 'deliver', 1069: 'together', 1070: 'hydrological', 1071: 'evaluation', 1072: 'assess', 1073: 'adequacy', 1074: 'beginning', 1075: 'specified', 1076: 'staffmonths', 1077: '6260', 1078: 'motorway', 1079: 'medakovo', 1080: 'ozimica', 1081: 'focus', 1082: 'collaboration', 1083: 'amicable', 1084: 'settlement', 1085: 'standby', 1086: 'generator', 1087: 'load', 1088: 'shading', 1089: 'failure', 1090: 'executive', 1091: 'study', 1092: 'mission', 1093: 'g41', 1094: 'rulebook', 1095: 'produced', 1096: 'georgian', 1097: 'library', 1098: 'maps', 1099: 'papers', 1100: 'created', 1101: 'updated', 1102: 'diaries', 1103: 'correspondence', 1104: 'calculations', 1105: 'pertaining', 1106: 'later', 1107: 'produce', 1108: 'albanian', 1109: 'distribute', 1110: 'piu', 1111: 'select', 1112: 'hire', 1113: 'complete', 1114: 'bhs', 1115: 'coincide', 1116: 'recess', 1117: 'granted', 1118: 'closedown', 1119: 'equally', 1120: 'stand', 1121: 'permanent', 1122: 'trunking', 1123: 'ducting', 1124: 'accommodate', 1125: 'centralized', 1126: 'technology', 1127: 'across', 1128: 'external', 1129: 'surroundings', 1130: 'permit', 1131: 'managercre', 1132: 'rental', 1133: 'beneficial', 1134: 'approving', 1135: 'petfonnance', 1136: 'insurances', 1137: 'effective', 1138: 'studies', 1139: 'claimsn', 1140: 'ariation', 1141: 'orders', 1142: 'amendments', 1143: 'notably', 1144: 'employers', 1145: '31', 1146: '35', 1147: 'determinations', 1148: '201', 1149: 'calendardays', 1150: 'engage', 1151: 'graduates', 1152: 'architects', 1153: 'boost', 1154: 'broader', 1155: 'initiative', 1156: 'promote', 1157: 'financing', 1158: 'public', 1159: 'principles', 1160: 'effects', 1161: 'savings', 1162: 'achieved', 1163: 'apparatus', 1164: 'laboratories', 1165: 'staffs', 1166: 'locally', 1167: 'stipulated', 1168: 'adjustments', 1169: 'designdrawingif', 1170: 'requirementcondition', 1171: 'treaty', 1172: 'introducing', 1173: 'reduction', 1174: 'goal', 1175: 'priorities', 1176: 'organising', 1177: 'herhis', 1178: 'coordinator', 1179: 'guidance', 1180: 'mobilisation', 1181: 'demobilisation', 1182: 'result', 1183: 'syrian', 1184: 'awaiting', 1185: 'increase', 1186: 'bear', 1187: 'fields', 1188: 'promotion', 1189: 'equality', 1190: 'takingover', 1191: 'elimination', 1192: 'essential', 1193: 'achieving', 1194: 'pursuant', 1195: 'decree', 1196: 'arrangement', 1197: 'obligatory', 1198: 'participants', 1199: '„official', 1200: 'gazette', 1201: 'bih“', 1202: '4809', 1203: '7509', 1204: 'legal', 1205: 'entity', 1206: 'activity', 1207: 'possessing', 1208: 'federal', 1209: 'analysis', 1210: 'existing', 1211: 'situation', 1212: 'procuring', 1213: 'entity‘s', 1214: '2000000', 1215: 'edition', 1216: '1999', 1217: 'published', 1218: 'switzerlandbased', 1219: 'internationale', 1220: 'des', 1221: 'ingenieursconseils', 1222: 'borderlines', 1223: 'bulgaria', 1224: 'greece', 1225: 'syria', 1226: 'azerbaijan', 1227: 'armenia', 1228: 'georgia', 1229: 'contractors’', 1230: 'showing', 1231: 'adopt', 1232: 'stages', 1233: 'kenha', 1234: 'sample', 1235: 'quarry', 1236: 'fueled', 1237: 'insured', 1238: 'tenderer', 1239: 'demonstrate', 1240: 'offer', 1241: 'chosen', 1242: 'mobilize', 1243: 'promptly', 1244: 'shehe', 1245: 'smooth', 1246: 'consideration', 1247: 'excessively', 1248: 'straights', 1249: 'balanced', 1250: 'vertical', 1251: 'curves', 1252: 'staffing', 1253: 'tech4', 1254: '“description', 1255: 'approach', 1256: 'responding', 1257: 'reference”', 1258: 'list', 1259: 'members', 1260: 'assistant', 1261: 'secretaries', 1262: 'interpreters', 1263: 'designation', 1264: 'roles', 1265: 'diligence', 1266: 'attributions', 1267: 'amended', 1268: 'care', 1269: 'protect', 1270: 'interests', 1271: 'conflict', 1272: 'regulations', 1273: 'force', 1274: 'unattended', 1275: 'uncompleted', 1276: 'issuing', 1277: 'industry', 1278: 'procured', 1279: 'eib’s', 1280: '2011', 1281: 'aligned', 1282: 'national', 1283: 'advantage', 1284: 'candidates', 1285: 'mdb', 1286: 'harmonized', 1287: '2010', 1288: 'entryexit', 1289: 'visas', 1290: 'task', 1291: 'bill', 1292: 'supportive', 1293: 'suitable', 1294: 'rules', 1295: 'huge', 1296: 'continuous', 1297: 'efforts', 1298: 'register', 1299: 'shelter', 1300: 'legend', 1301: 'explaining', 1302: 'symbols', 1303: 'funded', 1304: 'partners', 1305: 'proprietary', 1306: 'lines', 1307: 'director’s', 1308: 'overheads', 1309: 'intended', 1310: 'stmt', 1311: 'january', 1312: '2019', 1313: 'pre', 1314: 'inspection', 1315: 'commissioning', 1316: 'manuals', 1317: 'handing', 1318: 'comments', 1319: 'weeks’', 1320: 'record', 1321: 'repmt', 1322: 'implement', 1323: 'regainmaintain', 1324: 'cases', 1325: 'less', 1326: 'monitoring', 1327: 'uses', 1328: 'conclusion', 1329: 'usage', 1330: 'particular', 1331: 'interpreting', 1332: 'enable', 1333: 'concentrate', 1334: 'nonretaliation', 1335: 'violations', 1336: 'code', 1337: 'faith', 1338: 'stage', 1339: 'consolidated', 1340: 'outlining', 1341: 'necessity', 1342: 'separate', 1343: 'sessions', 1344: 'pool', 1345: 'expatriate', 1346: 'needs', 1347: 'arising', 1348: 'disciplines', 1349: 'hydrology', 1350: 'fatality', 1351: 'reported', 1352: 'immediately', 1353: 'guidelines', 1354: 'country’s', 1355: 'complied', 1356: 'bills', 1357: 'prevailing', 1358: 'market', 1359: 'around', 1360: 'procure', 1361: 'reach', 1362: 'favourable', 1363: 'economic', 1364: 'satisfied', 1365: '26', 1366: 'officeresidential', 1367: 'secretary', 1368: 'factored', 1369: 'perform', 1370: 'electrical', 1371: 'plumbing', 1372: 'firefighting', 1373: 'infrastructure', 1374: 'acquaint', 1375: 'enhancement', 1376: 'green', 1377: '60', 1378: 'receipt', 1379: 'rejected', 1380: 'possibility', 1381: 'solution', 1382: 'liabilities', 1383: 'mandatory', 1384: 'professionals', 1385: 'evidence', 1386: 'tendered', 1387: 'covers', 1388: 'auditor', 1389: 'charged', 1390: 'verifying', 1391: 'proceed', 1392: 'prefinancing', 1393: 'instalments', 1394: 'signature', 1395: 'cancellation', 1396: 'termination', 1397: 'delay', 1398: 'suspension', 1399: 'right', 1400: 'cancel', 1401: 'procedure', 1402: 'entirely', 1403: 'terminate', 1404: 'fluent', 1405: 'able', 1406: 'closely', 1407: 'kenha‘s', 1408: 'exclusive', 1409: 'conflicts', 1410: 'overall', 1411: 'frame', 1412: '315', 1413: 'calendar', 1414: '18months', 1415: '12months', 1416: 'starting', 1417: 'transfer', 1418: 'employees', 1419: 'regularly', 1420: 'fashion', 1421: 'supplied', 1422: 'policy', 1423: 'counterterrorism', 1424: 'likewise', 1425: 'liaise', 1426: 'inhouse', 1427: 'invoice', 1428: 'improved', 1429: 'inhabitants', 1430: 'gjilan', 1431: 'neighbouring', 1432: 'communities', 1433: 'treatment', 1434: 'reduce', 1435: 'untreated', 1436: 'enhance', 1437: 'joint', 1438: 'complement', 1439: 'accession', 1440: 'negotiations', 1441: 'involves', 1442: 'conducting', 1443: 'missing', 1444: 'incorporate', 1445: 'recommendations', 1446: 'contact', 1447: 'revenue', 1448: 'preferably15', 1449: 'preferably', 1450: 'bridge', 1451: 'ofthe', 1452: 'redesign', 1453: 'accordingly', 1454: 'actual', 1455: 'basic', 1456: 'liaison', 1457: 'amendment', 1458: 'incorporated', 1459: 'goods', 1460: 'advised', 1461: 'visiting', 1462: 'bore', 1463: 'certifications', 1464: 'orand', 1465: 'licenses', 1466: 'profession', 1467: 'thousand', 1468: 'euro', 1469: 'euros', 1470: 'set', 1471: 'forth', 1472: 'forms', 1473: 'f3', 1474: '18', 1475: 'calculate', 1476: 'income', 1477: 'restoration', 1478: 'resettlement', 1479: 'identify', 1480: 'programs', 1481: 'manner', 1482: 'csop', 1483: 'cesmp', 1484: 'fire', 1485: 'explosion', 1486: 'occupational', 1487: 'statement', 1488: 'watercourses', 1489: 'spoil', 1490: 'operational', 1491: 'oesmp', 1492: 'draw', 1493: 'attention', 1494: 'noticed', 1495: 'nomination', 1496: 'suitably', 1497: '“engineer”', 1498: 'prior', 1499: 'expiry', 1500: 'imperfections', 1501: 'faults', 1502: '150', 1503: 'preparation', 1504: 'minutes', 1505: 'meeting', 1506: 'mitigation', 1507: 'function', 1508: 'administering', 1509: 'advise', 1510: 'concerning', 1511: 'inter', 1512: 'alia', 1513: 'dispute', 1514: 'resolution', 1515: 'need', 1516: 'instruct', 1517: 'samples', 1518: 'techniques', 1519: 'whether', 1520: 'crucial', 1521: 'implementing', 1522: 'payable', 1523: 'united', 1524: 'republic', 1525: 'charted', 1526: 'bh', 1527: '‘’položen', 1528: 'stručni', 1529: 'ispit’’', 1530: 'holding', 1531: 'another', 1532: 'category', 1533: 'type1', 1534: 'rented', 1535: 'hand', 1536: 'furnishings', 1537: 'smoothly', 1538: 'acceptable', 1539: 'established', 1540: 'achievement', 1541: 'outputs', 1542: 'mandatoty', 1543: 'attend', 1544: 'observer'}\n"
          ]
        }
      ]
    },
    {
      "cell_type": "code",
      "source": [
        "# Modeling\n",
        "from tensorflow.keras.models import Sequential\n",
        "from tensorflow.keras.layers import LSTM, GRU, Dense, Embedding, Dropout, GlobalAveragePooling1D, Flatten, SpatialDropout1D, Bidirectional"
      ],
      "metadata": {
        "id": "YxJxRdjqXbzX"
      },
      "execution_count": 34,
      "outputs": []
    },
    {
      "cell_type": "code",
      "source": [
        "# LSTM Model\n",
        "from keras.regularizers import l2\n",
        "# Define Parameter\n",
        "n_lstm = 64\n",
        "drop_lstm = 0.2\n",
        "reg_lambda = 0.01  # regularization factor\n",
        "\n",
        "# Define LSTM Model\n",
        "model_LSTM = Sequential()\n",
        "model_LSTM.add(Embedding(input_dim=vocab_size,\n",
        "                         output_dim=100,\n",
        "                         input_length=max_length,\n",
        "                         weights=[embedding_matrix],\n",
        "                         trainable=True))\n",
        "model_LSTM.add(SpatialDropout1D(drop_lstm))\n",
        "model_LSTM.add(LSTM(n_lstm, return_sequences=False, kernel_regularizer=l2(reg_lambda)))  # Added regularization here\n",
        "model_LSTM.add(Dropout(drop_lstm))\n",
        "model_LSTM.add(layers.Dense(1, activation=\"sigmoid\", kernel_regularizer=l2(reg_lambda)))  # Added regularization here\n"
      ],
      "metadata": {
        "id": "w3rsr_BDXceZ"
      },
      "execution_count": 62,
      "outputs": []
    },
    {
      "cell_type": "code",
      "source": [
        "model_LSTM.summary()"
      ],
      "metadata": {
        "colab": {
          "base_uri": "https://localhost:8080/"
        },
        "id": "t6ki2n86XeIt",
        "outputId": "09bbda4b-bc53-47ec-fabe-f4a7cc911071"
      },
      "execution_count": 36,
      "outputs": [
        {
          "output_type": "stream",
          "name": "stdout",
          "text": [
            "Model: \"sequential_2\"\n",
            "_________________________________________________________________\n",
            " Layer (type)                Output Shape              Param #   \n",
            "=================================================================\n",
            " embedding_2 (Embedding)     (None, 32, 100)           161200    \n",
            "                                                                 \n",
            " spatial_dropout1d_2 (Spatia  (None, 32, 100)          0         \n",
            " lDropout1D)                                                     \n",
            "                                                                 \n",
            " lstm_2 (LSTM)               (None, 128)               117248    \n",
            "                                                                 \n",
            " dropout_2 (Dropout)         (None, 128)               0         \n",
            "                                                                 \n",
            " dense_2 (Dense)             (None, 1)                 129       \n",
            "                                                                 \n",
            "=================================================================\n",
            "Total params: 278,577\n",
            "Trainable params: 278,577\n",
            "Non-trainable params: 0\n",
            "_________________________________________________________________\n"
          ]
        }
      ]
    },
    {
      "cell_type": "code",
      "source": [
        "model_LSTM.compile(loss='binary_crossentropy',\n",
        "                   optimizer=keras.optimizers.Adam(learning_rate=0.001),\n",
        "                   metrics=['accuracy'])"
      ],
      "metadata": {
        "id": "L_Zo0UPGXfUe"
      },
      "execution_count": 63,
      "outputs": []
    },
    {
      "cell_type": "code",
      "source": [
        "from tensorflow.keras.callbacks import EarlyStopping\n",
        "num_epochs_LSTM=10\n",
        "early_stop = EarlyStopping(monitor='val_loss', patience=4)\n",
        "history_LSTM = model_LSTM.fit(train_padded,\n",
        "                              train_labels,\n",
        "                              epochs=num_epochs_LSTM,\n",
        "                              validation_data=(val_padded, val_labels),\n",
        "                              callbacks=[early_stop],\n",
        "                              verbose=2)"
      ],
      "metadata": {
        "colab": {
          "base_uri": "https://localhost:8080/"
        },
        "id": "Q5Bmtvl6Xf-N",
        "outputId": "203763f8-ec8d-4cfb-fba1-aaf0d1d141e3"
      },
      "execution_count": 64,
      "outputs": [
        {
          "output_type": "stream",
          "name": "stdout",
          "text": [
            "Epoch 1/10\n",
            "10/10 - 5s - loss: 2.0138 - accuracy: 0.4796 - val_loss: 1.8393 - val_accuracy: 0.4459 - 5s/epoch - 516ms/step\n",
            "Epoch 2/10\n",
            "10/10 - 0s - loss: 1.7255 - accuracy: 0.5170 - val_loss: 1.5834 - val_accuracy: 0.4459 - 246ms/epoch - 25ms/step\n",
            "Epoch 3/10\n",
            "10/10 - 0s - loss: 1.4773 - accuracy: 0.5306 - val_loss: 1.3482 - val_accuracy: 0.4730 - 258ms/epoch - 26ms/step\n",
            "Epoch 4/10\n",
            "10/10 - 0s - loss: 1.0152 - accuracy: 0.8231 - val_loss: 0.8241 - val_accuracy: 0.9189 - 247ms/epoch - 25ms/step\n",
            "Epoch 5/10\n",
            "10/10 - 0s - loss: 0.6813 - accuracy: 0.9592 - val_loss: 0.6581 - val_accuracy: 0.9189 - 244ms/epoch - 24ms/step\n",
            "Epoch 6/10\n",
            "10/10 - 0s - loss: 0.6178 - accuracy: 0.9184 - val_loss: 0.6328 - val_accuracy: 0.8919 - 240ms/epoch - 24ms/step\n",
            "Epoch 7/10\n",
            "10/10 - 0s - loss: 0.3986 - accuracy: 0.9830 - val_loss: 0.7613 - val_accuracy: 0.8784 - 248ms/epoch - 25ms/step\n",
            "Epoch 8/10\n",
            "10/10 - 0s - loss: 0.3078 - accuracy: 0.9932 - val_loss: 0.6570 - val_accuracy: 0.8784 - 273ms/epoch - 27ms/step\n",
            "Epoch 9/10\n",
            "10/10 - 0s - loss: 0.2287 - accuracy: 1.0000 - val_loss: 0.4052 - val_accuracy: 0.9459 - 251ms/epoch - 25ms/step\n",
            "Epoch 10/10\n",
            "10/10 - 0s - loss: 0.1832 - accuracy: 1.0000 - val_loss: 0.4305 - val_accuracy: 0.9189 - 253ms/epoch - 25ms/step\n"
          ]
        }
      ]
    },
    {
      "cell_type": "code",
      "source": [
        "plt.plot(history_LSTM.history[\"accuracy\"])\n",
        "plt.plot(history_LSTM.history[\"val_accuracy\"])\n",
        "\n",
        "plt.title('Model accuracy (LSTM)')\n",
        "plt.ylabel('Accuracy')\n",
        "plt.xlabel('Epoch')\n",
        "plt.legend(['Train', 'Val'], loc='upper left')\n",
        "plt.ylim([0, 1])  # Set the y-axis limits\n",
        "\n",
        "plt.show()"
      ],
      "metadata": {
        "colab": {
          "base_uri": "https://localhost:8080/",
          "height": 472
        },
        "id": "14o0d5XZXgor",
        "outputId": "100b15d6-13c5-477b-e426-99512b97282d"
      },
      "execution_count": 65,
      "outputs": [
        {
          "output_type": "display_data",
          "data": {
            "text/plain": [
              "<Figure size 640x480 with 1 Axes>"
            ],
            "image/png": "[encoded data removed]"
          },
          "metadata": {}
        }
      ]
    },
    {
      "cell_type": "code",
      "source": [
        "from sklearn.metrics import accuracy_score, precision_score, f1_score, confusion_matrix\n",
        "import matplotlib.pyplot as plt\n",
        "import seaborn as sns\n",
        "\n",
        "# Make predictions on the validation set\n",
        "val_predictions = model_LSTM.predict(val_padded)\n",
        "val_predictions = [1 if p > 0.5 else 0 for p in val_predictions]\n",
        "\n",
        "# Calculate Accuracy\n",
        "accuracy = accuracy_score(val_labels, val_predictions)\n",
        "\n",
        "# Calculate Precision\n",
        "precision = precision_score(val_labels, val_predictions)\n",
        "\n",
        "# Calculate F1 Score\n",
        "f1 = f1_score(val_labels, val_predictions)\n",
        "\n",
        "# Generate Confusion Matrix\n",
        "conf_matrix = confusion_matrix(val_labels, val_predictions)\n",
        "\n",
        "print(f\"Validation Accuracy: {accuracy}\")\n",
        "print(f\"Validation Precision: {precision}\")\n",
        "print(f\"Validation F1 Score: {f1}\")\n",
        "print(f\"Confusion Matrix: \\n{conf_matrix}\")\n",
        "\n",
        "# Plotting the Confusion Matrix\n",
        "plt.figure(figsize=(8, 6))\n",
        "sns.heatmap(conf_matrix, annot=True, fmt='g', cmap='Blues',\n",
        "            xticklabels=['Predicted Negative', 'Predicted Positive'],\n",
        "            yticklabels=['Actual Negative', 'Actual Positive'])\n",
        "plt.xlabel('Predicted')\n",
        "plt.ylabel('Actual')\n",
        "plt.title('Confusion Matrix')\n",
        "plt.show()\n"
      ],
      "metadata": {
        "id": "tVGNWGV5qgsh",
        "outputId": "6f1f84d0-95a3-4641-d8f6-784f9a42498f",
        "colab": {
          "base_uri": "https://localhost:8080/",
          "height": 686
        }
      },
      "execution_count": 61,
      "outputs": [
        {
          "output_type": "stream",
          "name": "stdout",
          "text": [
            "3/3 [==============================] - 0s 14ms/step\n",
            "Validation Accuracy: 0.8648648648648649\n",
            "Validation Precision: 0.9259259259259259\n",
            "Validation F1 Score: 0.8333333333333334\n",
            "Confusion Matrix: \n",
            "[[39  2]\n",
            " [ 8 25]]\n"
          ]
        },
        {
          "output_type": "display_data",
          "data": {
            "text/plain": [
              "<Figure size 800x600 with 2 Axes>"
            ],
            "image/png": "[encoded data removed]"
          },
          "metadata": {}
        }
      ]
    },
    {
      "cell_type": "code",
      "source": [],
      "metadata": {
        "id": "0nM_nyN7FXwG"
      },
      "execution_count": null,
      "outputs": []
    }
  ]
}